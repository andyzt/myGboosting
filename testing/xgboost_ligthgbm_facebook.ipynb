{
 "cells": [
  {
   "cell_type": "code",
   "execution_count": 2,
   "metadata": {},
   "outputs": [],
   "source": [
    "import lightgbm\n",
    "import pandas as pd\n",
    "import numpy as np"
   ]
  },
  {
   "cell_type": "code",
   "execution_count": 3,
   "metadata": {},
   "outputs": [],
   "source": [
    "import os\n",
    "import codecs\n",
    "import math\n",
    "\n",
    "import sklearn.metrics\n",
    "import sklearn\n",
    "import numpy\n"
   ]
  },
  {
   "cell_type": "code",
   "execution_count": 4,
   "metadata": {},
   "outputs": [
    {
     "name": "stdout",
     "output_type": "stream",
     "text": [
      "/Users/andyzt/ClionProjects/myGboosting/testing\r\n"
     ]
    }
   ],
   "source": [
    "!pwd"
   ]
  },
  {
   "cell_type": "code",
   "execution_count": 239,
   "metadata": {},
   "outputs": [],
   "source": [
    "df_train = pd.read_csv(\"datasets/FacebookCommentVolumeDataset/train.csv\", header=None)"
   ]
  },
  {
   "cell_type": "code",
   "execution_count": 240,
   "metadata": {},
   "outputs": [
    {
     "data": {
      "text/plain": [
       "(40949, 53)"
      ]
     },
     "execution_count": 240,
     "metadata": {},
     "output_type": "execute_result"
    }
   ],
   "source": [
    "y_train = df_train.iloc[:,53]\n",
    "X_train = df_train.iloc[:,:53]\n",
    "X_train.shape"
   ]
  },
  {
   "cell_type": "code",
   "execution_count": 241,
   "metadata": {},
   "outputs": [],
   "source": [
    "df_test = pd.read_csv(\"datasets/FacebookCommentVolumeDataset/test.csv\", header=None)"
   ]
  },
  {
   "cell_type": "code",
   "execution_count": 242,
   "metadata": {},
   "outputs": [
    {
     "data": {
      "text/plain": [
       "(10044, 53)"
      ]
     },
     "execution_count": 242,
     "metadata": {},
     "output_type": "execute_result"
    }
   ],
   "source": [
    "y_test = df_test.iloc[:,53]\n",
    "X_test = df_test.iloc[:,:53]\n",
    "X_test.shape"
   ]
  },
  {
   "cell_type": "markdown",
   "metadata": {},
   "source": [
    "## LightGBM"
   ]
  },
  {
   "cell_type": "code",
   "execution_count": 267,
   "metadata": {},
   "outputs": [],
   "source": [
    "D_train = lightgbm.Dataset(X_train, y_train)\n",
    "\n",
    "\n",
    "lgb_params = dict()\n",
    "lgb_params['boosting_type'] = 'gbdt'  # space['boosting_type'], # 'gbdt', # gbdt | dart | goss\n",
    "# px['objective'] ='multi:softprob'\n",
    "lgb_params['application'] = 'regression'\n",
    "lgb_params['metric'] = 'l2'\n",
    "lgb_params['learning_rate'] = 1.0\n",
    "#lgb_params['num_leaves'] = 100\n",
    "lgb_params['min_data_in_leaf'] = 10\n",
    "#lgb_params['min_sum_hessian_in_leaf'] = 1e-3\n",
    "lgb_params['max_depth'] = 2\n",
    "lgb_params['lambda_l1'] = 0.0  # space['lambda_l1'],\n",
    "lgb_params['lambda_l2'] = 0.0  # space['lambda_l2'],\n",
    "lgb_params['max_bin'] = 10\n",
    "lgb_params['feature_fraction'] = 1.0\n",
    "lgb_params['bagging_fraction'] = 0.66\n",
    "lgb_params['bagging_freq'] = 1\n",
    "lgb_params['num_threads'] = 1\n",
    "\n",
    "\n",
    "\n",
    "model = lightgbm.train(lgb_params,\n",
    "                       D_train,\n",
    "                       num_boost_round=2,\n",
    "                       # metrics='mlogloss',\n",
    "                       #valid_sets=D_val,\n",
    "                       # valid_names='val',\n",
    "                       # fobj=None,\n",
    "                       # feval=None,\n",
    "                       # init_model=None,\n",
    "                       # feature_name='auto',\n",
    "                       # categorical_feature='auto',\n",
    "                       #early_stopping_rounds=100,\n",
    "                       # evals_result=None,\n",
    "                       verbose_eval=False,\n",
    "                       # learning_rates=None,\n",
    "                       # keep_training_booster=False,\n",
    "                       # callbacks=None\n",
    "                       )\n",
    "\n",
    "#nb_trees = model.best_iteration\n",
    "\n",
    "#print('nb_trees={}'.format(nb_trees))\n",
    "\n",
    "#y_pred = model.predict(X_test, num_iteration=nb_trees )\n",
    "#test_loss = sklearn.metrics.log_loss( y_test, y_pred, labels=list(range(10)))"
   ]
  },
  {
   "cell_type": "code",
   "execution_count": 268,
   "metadata": {},
   "outputs": [
    {
     "name": "stdout",
     "output_type": "stream",
     "text": [
      "train_loss=852.4929342275067\n"
     ]
    }
   ],
   "source": [
    "y_pred = model.predict(X_train)\n",
    "train_loss = sklearn.metrics.mean_squared_error(y_train, y_pred)\n",
    "\n",
    "#acc = sklearn.metrics.accuracy_score( y_train, numpy.argmax( y_pred, axis=1 ) )\n",
    "\n",
    "print('train_loss={}'.format(train_loss))"
   ]
  },
  {
   "cell_type": "code",
   "execution_count": 99,
   "metadata": {},
   "outputs": [
    {
     "name": "stdout",
     "output_type": "stream",
     "text": [
      "test_loss=10976.949481412941\n"
     ]
    }
   ],
   "source": [
    "y_pred = model.predict(X_test)\n",
    "test_loss = sklearn.metrics.mean_squared_error(y_test, y_pred)\n",
    "\n",
    "#acc = sklearn.metrics.accuracy_score( y_train, numpy.argmax( y_pred, axis=1 ) )\n",
    "\n",
    "print('test_loss={}'.format(test_loss))"
   ]
  },
  {
   "cell_type": "markdown",
   "metadata": {},
   "source": [
    "## XGBoost"
   ]
  },
  {
   "cell_type": "code",
   "execution_count": 100,
   "metadata": {},
   "outputs": [],
   "source": [
    "import xgboost"
   ]
  },
  {
   "cell_type": "code",
   "execution_count": 101,
   "metadata": {
    "scrolled": true
   },
   "outputs": [
    {
     "name": "stdout",
     "output_type": "stream",
     "text": [
      "nb_trees=20\n"
     ]
    }
   ],
   "source": [
    "D_train = xgboost.DMatrix(X_train, y_train)\n",
    "D_test = xgboost.DMatrix(X_test)\n",
    "\n",
    "xgb_params = dict()\n",
    "xgb_params['eta'] = 1.0\n",
    "xgb_params['max_depth'] = 5\n",
    "xgb_params['subsample'] = 0.66\n",
    "xgb_params['min_child_weight'] = 10\n",
    "#xgb_params['gamma'] = 0.271712091643\n",
    "xgb_params['colsample_bytree'] = 1.0\n",
    "#xgb_params['colsample_bylevel'] = 0.79407015729\n",
    "xgb_params['objective'] = 'reg:linear'\n",
    "#xgb_params['eval_metric'] = [ 'merror', 'mlogloss']\n",
    "#xgb_params['num_class'] = 10\n",
    "xgb_params['seed'] = 123456\n",
    "xgb_params['silent'] = False\n",
    "xgb_params['tree_method'] = 'hist'\n",
    "xgb_params['max_bin'] = 10\n",
    "xgb_params['nthread'] = 1\n",
    "\n",
    "\n",
    "#xgb_params['updater'] = 'grow_gpu'\n",
    "\n",
    "\n",
    "#watchlist = [(D_train, 'train'), (D_val, 'valid')]\n",
    "\n",
    "model = xgboost.train( params=xgb_params,\n",
    "                      dtrain=D_train,\n",
    "                      num_boost_round=20,\n",
    "                      #evals=watchlist,\n",
    "                      #verbose_eval=10,\n",
    "                      #early_stopping_rounds=50\n",
    "                     )\n",
    "\n",
    "print('nb_trees={}'.format(model.best_ntree_limit))\n",
    "\n"
   ]
  },
  {
   "cell_type": "code",
   "execution_count": 103,
   "metadata": {},
   "outputs": [
    {
     "name": "stdout",
     "output_type": "stream",
     "text": [
      "train_loss=466.8945376161178\n"
     ]
    }
   ],
   "source": [
    "y_pred = model.predict(D_train)\n",
    "train_loss = sklearn.metrics.mean_squared_error(y_train, y_pred)\n",
    "\n",
    "#acc = sklearn.metrics.accuracy_score( y_train, numpy.argmax( y_pred, axis=1 ) )\n",
    "\n",
    "print('train_loss={}'.format(train_loss))"
   ]
  },
  {
   "cell_type": "code",
   "execution_count": 104,
   "metadata": {},
   "outputs": [
    {
     "name": "stdout",
     "output_type": "stream",
     "text": [
      "test_loss=11647.723753997956\n"
     ]
    }
   ],
   "source": [
    "y_pred = model.predict(D_test)\n",
    "\n",
    "test_loss = sklearn.metrics.mean_squared_error(y_test, y_pred)\n",
    "\n",
    "print('test_loss={}'.format(test_loss))"
   ]
  },
  {
   "cell_type": "markdown",
   "metadata": {},
   "source": [
    "расчет MSE по предсказаниям нашей модели"
   ]
  },
  {
   "cell_type": "code",
   "execution_count": 65,
   "metadata": {},
   "outputs": [
    {
     "name": "stdout",
     "output_type": "stream",
     "text": [
      "/Users/andyzt/ClionProjects/myGboosting/testing\r\n"
     ]
    }
   ],
   "source": [
    "!pwd"
   ]
  },
  {
   "cell_type": "code",
   "execution_count": 105,
   "metadata": {},
   "outputs": [],
   "source": [
    "df_pred_train = pd.read_csv(\"../cmake-build-release/pred_train.csv\", header=None)"
   ]
  },
  {
   "cell_type": "code",
   "execution_count": 106,
   "metadata": {},
   "outputs": [
    {
     "name": "stdout",
     "output_type": "stream",
     "text": [
      "train_loss=641.3193536717484\n"
     ]
    }
   ],
   "source": [
    "train_loss = sklearn.metrics.mean_squared_error(y_train, df_pred_train)\n",
    "\n",
    "print('train_loss={}'.format(train_loss))"
   ]
  },
  {
   "cell_type": "code",
   "execution_count": 47,
   "metadata": {},
   "outputs": [],
   "source": [
    "df_pred = pd.read_csv(\"../cmake-build-release/pred.csv\", header=None)"
   ]
  },
  {
   "cell_type": "code",
   "execution_count": 48,
   "metadata": {},
   "outputs": [
    {
     "name": "stdout",
     "output_type": "stream",
     "text": [
      "test_loss=1.4471964093797176\n"
     ]
    }
   ],
   "source": [
    "test_loss = sklearn.metrics.mean_squared_error(y_test, df_pred)\n",
    "\n",
    "print('test_loss={}'.format(test_loss))"
   ]
  },
  {
   "cell_type": "markdown",
   "metadata": {},
   "source": [
    "## Higgs dataset testing (LightGBM)"
   ]
  },
  {
   "cell_type": "code",
   "execution_count": 5,
   "metadata": {},
   "outputs": [],
   "source": [
    "df = pd.read_csv(\"datasets/Higgs/train_orig.csv.gz\")"
   ]
  },
  {
   "cell_type": "code",
   "execution_count": 6,
   "metadata": {},
   "outputs": [],
   "source": [
    "#df_train['target'] = np.where(df_train['Label'] == 's' ,1,0)"
   ]
  },
  {
   "cell_type": "code",
   "execution_count": 7,
   "metadata": {},
   "outputs": [],
   "source": [
    "del df['Label']\n",
    "y = df['Weight']\n",
    "del df['Weight']"
   ]
  },
  {
   "cell_type": "code",
   "execution_count": 8,
   "metadata": {},
   "outputs": [],
   "source": [
    "from sklearn.model_selection import train_test_split\n",
    "\n",
    "X_train, X_test, y_train, y_test = train_test_split(df, y, test_size=0.2, random_state=42)"
   ]
  },
  {
   "cell_type": "code",
   "execution_count": 38,
   "metadata": {},
   "outputs": [],
   "source": [
    "D_train = lightgbm.Dataset(X_train, y_train)\n",
    "\n",
    "\n",
    "lgb_params = dict()\n",
    "lgb_params['boosting_type'] = 'gbdt'  # space['boosting_type'], # 'gbdt', # gbdt | dart | goss\n",
    "# px['objective'] ='multi:softprob'\n",
    "lgb_params['application'] = 'regression'\n",
    "lgb_params['metric'] = 'l2'\n",
    "lgb_params['learning_rate'] = 0.5\n",
    "lgb_params['num_leaves'] = 64\n",
    "#lgb_params['min_data_in_leaf'] = 10\n",
    "#lgb_params['min_sum_hessian_in_leaf'] = 1e-3\n",
    "#lgb_params['max_depth'] = 6\n",
    "lgb_params['lambda_l1'] = 0.0  # space['lambda_l1'],\n",
    "lgb_params['lambda_l2'] = 0.0  # space['lambda_l2'],\n",
    "lgb_params['max_bin'] = 255\n",
    "lgb_params['feature_fraction'] = 1.0\n",
    "lgb_params['bagging_fraction'] = 0.5\n",
    "lgb_params['bagging_freq'] = 1\n",
    "lgb_params['num_threads'] = 1\n",
    "\n",
    "\n",
    "\n",
    "model = lightgbm.train(lgb_params,\n",
    "                       D_train,\n",
    "                       num_boost_round=400,\n",
    "                       # metrics='mlogloss',\n",
    "                       #valid_sets=D_val,\n",
    "                       # valid_names='val',\n",
    "                       # fobj=None,\n",
    "                       # feval=None,\n",
    "                       # init_model=None,\n",
    "                       # feature_name='auto',\n",
    "                       # categorical_feature='auto',\n",
    "                       #early_stopping_rounds=100,\n",
    "                       # evals_result=None,\n",
    "                       verbose_eval=False,\n",
    "                       # learning_rates=None,\n",
    "                       # keep_training_booster=False,\n",
    "                       # callbacks=None\n",
    "                       )"
   ]
  },
  {
   "cell_type": "code",
   "execution_count": 39,
   "metadata": {},
   "outputs": [
    {
     "name": "stdout",
     "output_type": "stream",
     "text": [
      "train_loss=0.6468995535097333\n"
     ]
    }
   ],
   "source": [
    "y_pred = model.predict(X_train)\n",
    "train_loss = sklearn.metrics.mean_squared_error(y_train, y_pred)\n",
    "\n",
    "#acc = sklearn.metrics.accuracy_score( y_train, numpy.argmax( y_pred, axis=1 ) )\n",
    "\n",
    "print('train_loss={}'.format(train_loss))"
   ]
  },
  {
   "cell_type": "code",
   "execution_count": 40,
   "metadata": {},
   "outputs": [
    {
     "name": "stdout",
     "output_type": "stream",
     "text": [
      "test_loss=1.8866258994568623\n"
     ]
    }
   ],
   "source": [
    "y_pred = model.predict(X_test)\n",
    "test_loss = sklearn.metrics.mean_squared_error(y_test, y_pred)\n",
    "\n",
    "#acc = sklearn.metrics.accuracy_score( y_train, numpy.argmax( y_pred, axis=1 ) )\n",
    "\n",
    "print('test_loss={}'.format(test_loss))"
   ]
  },
  {
   "cell_type": "code",
   "execution_count": 202,
   "metadata": {},
   "outputs": [
    {
     "name": "stderr",
     "output_type": "stream",
     "text": [
      "/Users/andyzt/anaconda3/lib/python3.6/site-packages/ipykernel_launcher.py:2: SettingWithCopyWarning: \n",
      "A value is trying to be set on a copy of a slice from a DataFrame.\n",
      "Try using .loc[row_indexer,col_indexer] = value instead\n",
      "\n",
      "See the caveats in the documentation: http://pandas.pydata.org/pandas-docs/stable/indexing.html#indexing-view-versus-copy\n",
      "  \n"
     ]
    }
   ],
   "source": [
    "df_train = X_train\n",
    "df_train['target'] = y_train"
   ]
  },
  {
   "cell_type": "code",
   "execution_count": 205,
   "metadata": {},
   "outputs": [],
   "source": [
    "df_train.to_csv(\"train.csv\",index=False)"
   ]
  },
  {
   "cell_type": "code",
   "execution_count": 206,
   "metadata": {},
   "outputs": [
    {
     "name": "stderr",
     "output_type": "stream",
     "text": [
      "/Users/andyzt/anaconda3/lib/python3.6/site-packages/ipykernel_launcher.py:2: SettingWithCopyWarning: \n",
      "A value is trying to be set on a copy of a slice from a DataFrame.\n",
      "Try using .loc[row_indexer,col_indexer] = value instead\n",
      "\n",
      "See the caveats in the documentation: http://pandas.pydata.org/pandas-docs/stable/indexing.html#indexing-view-versus-copy\n",
      "  \n"
     ]
    }
   ],
   "source": [
    "df_test = X_test\n",
    "df_test['target'] = y_test\n",
    "df_test.to_csv(\"test.csv\",index=False)"
   ]
  },
  {
   "cell_type": "markdown",
   "metadata": {},
   "source": [
    "## XGBoost on Higgs"
   ]
  },
  {
   "cell_type": "code",
   "execution_count": 13,
   "metadata": {},
   "outputs": [],
   "source": [
    "import xgboost"
   ]
  },
  {
   "cell_type": "code",
   "execution_count": 17,
   "metadata": {},
   "outputs": [
    {
     "name": "stdout",
     "output_type": "stream",
     "text": [
      "nb_trees=400\n",
      "CPU times: user 15.9 s, sys: 143 ms, total: 16 s\n",
      "Wall time: 16.1 s\n"
     ]
    }
   ],
   "source": [
    "%%time\n",
    "D_train = xgboost.DMatrix(X_train, y_train)\n",
    "D_test = xgboost.DMatrix(X_test)\n",
    "\n",
    "xgb_params = dict()\n",
    "xgb_params['eta'] = 1.0\n",
    "xgb_params['max_depth'] = 6\n",
    "xgb_params['subsample'] = 1.0\n",
    "xgb_params['min_child_weight'] = 1\n",
    "#xgb_params['gamma'] = 0.271712091643\n",
    "xgb_params['colsample_bytree'] = 1.0\n",
    "#xgb_params['colsample_bylevel'] = 0.79407015729\n",
    "xgb_params['objective'] = 'reg:linear'\n",
    "#xgb_params['eval_metric'] = [ 'merror', 'mlogloss']\n",
    "#xgb_params['num_class'] = 10\n",
    "xgb_params['seed'] = 123456\n",
    "xgb_params['silent'] = False\n",
    "xgb_params['tree_method'] = 'hist'\n",
    "xgb_params['max_bin'] = 10\n",
    "xgb_params['nthread'] = 1\n",
    "\n",
    "\n",
    "#xgb_params['updater'] = 'grow_gpu'\n",
    "\n",
    "\n",
    "#watchlist = [(D_train, 'train'), (D_val, 'valid')]\n",
    "\n",
    "model = xgboost.train( params=xgb_params,\n",
    "                      dtrain=D_train,\n",
    "                      num_boost_round=400,\n",
    "                      #evals=watchlist,\n",
    "                      #verbose_eval=10,\n",
    "                      #early_stopping_rounds=50\n",
    "                     )\n",
    "\n",
    "print('nb_trees={}'.format(model.best_ntree_limit))\n",
    "\n",
    "\n"
   ]
  },
  {
   "cell_type": "code",
   "execution_count": 15,
   "metadata": {},
   "outputs": [
    {
     "name": "stdout",
     "output_type": "stream",
     "text": [
      "train_loss=0.7874981669733602\n"
     ]
    }
   ],
   "source": [
    "y_pred = model.predict(D_train)\n",
    "train_loss = sklearn.metrics.mean_squared_error(y_train, y_pred)\n",
    "\n",
    "#acc = sklearn.metrics.accuracy_score( y_train, numpy.argmax( y_pred, axis=1 ) )\n",
    "\n",
    "print('train_loss={}'.format(train_loss))"
   ]
  },
  {
   "cell_type": "code",
   "execution_count": null,
   "metadata": {},
   "outputs": [],
   "source": []
  }
 ],
 "metadata": {
  "kernelspec": {
   "display_name": "Python 3",
   "language": "python",
   "name": "python3"
  },
  "language_info": {
   "codemirror_mode": {
    "name": "ipython",
    "version": 3
   },
   "file_extension": ".py",
   "mimetype": "text/x-python",
   "name": "python",
   "nbconvert_exporter": "python",
   "pygments_lexer": "ipython3",
   "version": "3.6.3"
  }
 },
 "nbformat": 4,
 "nbformat_minor": 2
}
